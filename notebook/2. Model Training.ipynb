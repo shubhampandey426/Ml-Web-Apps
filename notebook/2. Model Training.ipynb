{
 "cells": [
  {
   "cell_type": "markdown",
   "metadata": {},
   "source": [
    "# Model Training"
   ]
  },
  {
   "cell_type": "markdown",
   "metadata": {},
   "source": [
    "## 1.1 Import Data and required packages"
   ]
  },
  {
   "cell_type": "code",
   "execution_count": 88,
   "metadata": {},
   "outputs": [],
   "source": [
    "import pandas as pd\n",
    "import numpy as np\n",
    "import sklearn\n",
    "\n",
    "from sklearn.preprocessing import StandardScaler, OneHotEncoder\n",
    "from sklearn.compose import ColumnTransformer\n",
    "\n",
    "from sklearn.model_selection import train_test_split\n",
    "\n",
    "from sklearn.metrics import mean_absolute_error,mean_squared_error,r2_score\n",
    "\n",
    "from sklearn.linear_model import LinearRegression,Ridge,Lasso\n",
    "from sklearn.neighbors import KNeighborsRegressor\n",
    "from sklearn.tree import DecisionTreeRegressor\n",
    "from sklearn.ensemble import RandomForestRegressor,AdaBoostRegressor\n",
    "\n",
    "import warnings"
   ]
  },
  {
   "cell_type": "markdown",
   "metadata": {},
   "source": [
    "Import the csv data as Pandas Data Frame"
   ]
  },
  {
   "cell_type": "code",
   "execution_count": 2,
   "metadata": {},
   "outputs": [],
   "source": [
    "df= pd.read_csv(r'C:\\Users\\win10\\Desktop\\Upgrad\\ML WebApps\\notebook\\data\\data.csv')"
   ]
  },
  {
   "cell_type": "markdown",
   "metadata": {},
   "source": [
    "Top 5 Records"
   ]
  },
  {
   "cell_type": "code",
   "execution_count": 3,
   "metadata": {},
   "outputs": [
    {
     "data": {
      "text/html": [
       "<div>\n",
       "<style scoped>\n",
       "    .dataframe tbody tr th:only-of-type {\n",
       "        vertical-align: middle;\n",
       "    }\n",
       "\n",
       "    .dataframe tbody tr th {\n",
       "        vertical-align: top;\n",
       "    }\n",
       "\n",
       "    .dataframe thead th {\n",
       "        text-align: right;\n",
       "    }\n",
       "</style>\n",
       "<table border=\"1\" class=\"dataframe\">\n",
       "  <thead>\n",
       "    <tr style=\"text-align: right;\">\n",
       "      <th></th>\n",
       "      <th>gender</th>\n",
       "      <th>race_ethnicity</th>\n",
       "      <th>parental_level_of_education</th>\n",
       "      <th>lunch</th>\n",
       "      <th>test_preparation_course</th>\n",
       "      <th>math_score</th>\n",
       "      <th>reading_score</th>\n",
       "      <th>writing_score</th>\n",
       "    </tr>\n",
       "  </thead>\n",
       "  <tbody>\n",
       "    <tr>\n",
       "      <th>0</th>\n",
       "      <td>female</td>\n",
       "      <td>group B</td>\n",
       "      <td>bachelor's degree</td>\n",
       "      <td>standard</td>\n",
       "      <td>none</td>\n",
       "      <td>72</td>\n",
       "      <td>72</td>\n",
       "      <td>74</td>\n",
       "    </tr>\n",
       "    <tr>\n",
       "      <th>1</th>\n",
       "      <td>female</td>\n",
       "      <td>group C</td>\n",
       "      <td>some college</td>\n",
       "      <td>standard</td>\n",
       "      <td>completed</td>\n",
       "      <td>69</td>\n",
       "      <td>90</td>\n",
       "      <td>88</td>\n",
       "    </tr>\n",
       "    <tr>\n",
       "      <th>2</th>\n",
       "      <td>female</td>\n",
       "      <td>group B</td>\n",
       "      <td>master's degree</td>\n",
       "      <td>standard</td>\n",
       "      <td>none</td>\n",
       "      <td>90</td>\n",
       "      <td>95</td>\n",
       "      <td>93</td>\n",
       "    </tr>\n",
       "    <tr>\n",
       "      <th>3</th>\n",
       "      <td>male</td>\n",
       "      <td>group A</td>\n",
       "      <td>associate's degree</td>\n",
       "      <td>free/reduced</td>\n",
       "      <td>none</td>\n",
       "      <td>47</td>\n",
       "      <td>57</td>\n",
       "      <td>44</td>\n",
       "    </tr>\n",
       "    <tr>\n",
       "      <th>4</th>\n",
       "      <td>male</td>\n",
       "      <td>group C</td>\n",
       "      <td>some college</td>\n",
       "      <td>standard</td>\n",
       "      <td>none</td>\n",
       "      <td>76</td>\n",
       "      <td>78</td>\n",
       "      <td>75</td>\n",
       "    </tr>\n",
       "  </tbody>\n",
       "</table>\n",
       "</div>"
      ],
      "text/plain": [
       "   gender race_ethnicity parental_level_of_education         lunch   \n",
       "0  female        group B           bachelor's degree      standard  \\\n",
       "1  female        group C                some college      standard   \n",
       "2  female        group B             master's degree      standard   \n",
       "3    male        group A          associate's degree  free/reduced   \n",
       "4    male        group C                some college      standard   \n",
       "\n",
       "  test_preparation_course  math_score  reading_score  writing_score  \n",
       "0                    none          72             72             74  \n",
       "1               completed          69             90             88  \n",
       "2                    none          90             95             93  \n",
       "3                    none          47             57             44  \n",
       "4                    none          76             78             75  "
      ]
     },
     "execution_count": 3,
     "metadata": {},
     "output_type": "execute_result"
    }
   ],
   "source": [
    "df.head()"
   ]
  },
  {
   "cell_type": "markdown",
   "metadata": {},
   "source": [
    "### Creating Independent and Dependent feature from existing Data Frame"
   ]
  },
  {
   "cell_type": "code",
   "execution_count": 4,
   "metadata": {},
   "outputs": [],
   "source": [
    "X=df.drop('math_score',axis=1)\n",
    "y=df['math_score']"
   ]
  },
  {
   "cell_type": "markdown",
   "metadata": {},
   "source": [
    "Shape of X and y"
   ]
  },
  {
   "cell_type": "code",
   "execution_count": 5,
   "metadata": {},
   "outputs": [
    {
     "name": "stdout",
     "output_type": "stream",
     "text": [
      "Shape of X variable : (1000, 7)\n",
      "Shape of y variable : (1000,)\n"
     ]
    }
   ],
   "source": [
    "print(\"Shape of X variable : {}\".format(X.shape))\n",
    "print(\"Shape of y variable : {}\".format(y.shape))"
   ]
  },
  {
   "cell_type": "code",
   "execution_count": 6,
   "metadata": {},
   "outputs": [
    {
     "data": {
      "text/html": [
       "<div>\n",
       "<style scoped>\n",
       "    .dataframe tbody tr th:only-of-type {\n",
       "        vertical-align: middle;\n",
       "    }\n",
       "\n",
       "    .dataframe tbody tr th {\n",
       "        vertical-align: top;\n",
       "    }\n",
       "\n",
       "    .dataframe thead th {\n",
       "        text-align: right;\n",
       "    }\n",
       "</style>\n",
       "<table border=\"1\" class=\"dataframe\">\n",
       "  <thead>\n",
       "    <tr style=\"text-align: right;\">\n",
       "      <th></th>\n",
       "      <th>gender</th>\n",
       "      <th>race_ethnicity</th>\n",
       "      <th>parental_level_of_education</th>\n",
       "      <th>lunch</th>\n",
       "      <th>test_preparation_course</th>\n",
       "      <th>reading_score</th>\n",
       "      <th>writing_score</th>\n",
       "    </tr>\n",
       "  </thead>\n",
       "  <tbody>\n",
       "    <tr>\n",
       "      <th>0</th>\n",
       "      <td>female</td>\n",
       "      <td>group B</td>\n",
       "      <td>bachelor's degree</td>\n",
       "      <td>standard</td>\n",
       "      <td>none</td>\n",
       "      <td>72</td>\n",
       "      <td>74</td>\n",
       "    </tr>\n",
       "    <tr>\n",
       "      <th>1</th>\n",
       "      <td>female</td>\n",
       "      <td>group C</td>\n",
       "      <td>some college</td>\n",
       "      <td>standard</td>\n",
       "      <td>completed</td>\n",
       "      <td>90</td>\n",
       "      <td>88</td>\n",
       "    </tr>\n",
       "    <tr>\n",
       "      <th>2</th>\n",
       "      <td>female</td>\n",
       "      <td>group B</td>\n",
       "      <td>master's degree</td>\n",
       "      <td>standard</td>\n",
       "      <td>none</td>\n",
       "      <td>95</td>\n",
       "      <td>93</td>\n",
       "    </tr>\n",
       "    <tr>\n",
       "      <th>3</th>\n",
       "      <td>male</td>\n",
       "      <td>group A</td>\n",
       "      <td>associate's degree</td>\n",
       "      <td>free/reduced</td>\n",
       "      <td>none</td>\n",
       "      <td>57</td>\n",
       "      <td>44</td>\n",
       "    </tr>\n",
       "    <tr>\n",
       "      <th>4</th>\n",
       "      <td>male</td>\n",
       "      <td>group C</td>\n",
       "      <td>some college</td>\n",
       "      <td>standard</td>\n",
       "      <td>none</td>\n",
       "      <td>78</td>\n",
       "      <td>75</td>\n",
       "    </tr>\n",
       "  </tbody>\n",
       "</table>\n",
       "</div>"
      ],
      "text/plain": [
       "   gender race_ethnicity parental_level_of_education         lunch   \n",
       "0  female        group B           bachelor's degree      standard  \\\n",
       "1  female        group C                some college      standard   \n",
       "2  female        group B             master's degree      standard   \n",
       "3    male        group A          associate's degree  free/reduced   \n",
       "4    male        group C                some college      standard   \n",
       "\n",
       "  test_preparation_course  reading_score  writing_score  \n",
       "0                    none             72             74  \n",
       "1               completed             90             88  \n",
       "2                    none             95             93  \n",
       "3                    none             57             44  \n",
       "4                    none             78             75  "
      ]
     },
     "execution_count": 6,
     "metadata": {},
     "output_type": "execute_result"
    }
   ],
   "source": [
    "X.head()"
   ]
  },
  {
   "cell_type": "code",
   "execution_count": 8,
   "metadata": {},
   "outputs": [
    {
     "data": {
      "text/plain": [
       "0    72\n",
       "1    69\n",
       "2    90\n",
       "3    47\n",
       "4    76\n",
       "Name: math_score, dtype: int64"
      ]
     },
     "execution_count": 8,
     "metadata": {},
     "output_type": "execute_result"
    }
   ],
   "source": [
    "y.head()"
   ]
  },
  {
   "cell_type": "markdown",
   "metadata": {},
   "source": [
    "Creating preprocessor using ColumnTranformer to tranform categorical and numerical features"
   ]
  },
  {
   "cell_type": "code",
   "execution_count": 11,
   "metadata": {},
   "outputs": [
    {
     "name": "stdout",
     "output_type": "stream",
     "text": [
      "<class 'pandas.core.frame.DataFrame'>\n",
      "RangeIndex: 1000 entries, 0 to 999\n",
      "Data columns (total 8 columns):\n",
      " #   Column                       Non-Null Count  Dtype \n",
      "---  ------                       --------------  ----- \n",
      " 0   gender                       1000 non-null   object\n",
      " 1   race_ethnicity               1000 non-null   object\n",
      " 2   parental_level_of_education  1000 non-null   object\n",
      " 3   lunch                        1000 non-null   object\n",
      " 4   test_preparation_course      1000 non-null   object\n",
      " 5   math_score                   1000 non-null   int64 \n",
      " 6   reading_score                1000 non-null   int64 \n",
      " 7   writing_score                1000 non-null   int64 \n",
      "dtypes: int64(3), object(5)\n",
      "memory usage: 62.6+ KB\n"
     ]
    }
   ],
   "source": [
    "df.info()"
   ]
  },
  {
   "cell_type": "code",
   "execution_count": 18,
   "metadata": {},
   "outputs": [],
   "source": [
    "# creating 2 list for numerical feature and categorical feature \n",
    "num_features=X.select_dtypes(exclude='object').columns\n",
    "cat_features=X.select_dtypes(include='object').columns\n",
    "\n",
    "num_tranformer=StandardScaler()\n",
    "cat_tranformer=OneHotEncoder()\n",
    "\n",
    "preprocessor=ColumnTransformer(\n",
    "                                transformers=[\n",
    "                                    ('numer_tranform',num_tranformer,num_features),\n",
    "                                    ('cat_tranformer',cat_tranformer,cat_features)\n",
    "                                ],\n",
    "                                remainder='passthrough'\n",
    ")"
   ]
  },
  {
   "cell_type": "markdown",
   "metadata": {},
   "source": [
    "Applying the preprocess to tranform the features"
   ]
  },
  {
   "cell_type": "code",
   "execution_count": 19,
   "metadata": {},
   "outputs": [],
   "source": [
    "X= preprocessor.fit_transform(X)"
   ]
  },
  {
   "cell_type": "code",
   "execution_count": 21,
   "metadata": {},
   "outputs": [
    {
     "data": {
      "text/plain": [
       "(1000, 19)"
      ]
     },
     "execution_count": 21,
     "metadata": {},
     "output_type": "execute_result"
    }
   ],
   "source": [
    "X.shape"
   ]
  },
  {
   "cell_type": "markdown",
   "metadata": {},
   "source": [
    "Creating Train and Test Split"
   ]
  },
  {
   "cell_type": "code",
   "execution_count": 24,
   "metadata": {},
   "outputs": [],
   "source": [
    "X_train,X_test, y_train,y_test= train_test_split(X,y, test_size=0.25,random_state=42)"
   ]
  },
  {
   "cell_type": "markdown",
   "metadata": {},
   "source": [
    "Shape of train and test data"
   ]
  },
  {
   "cell_type": "code",
   "execution_count": 26,
   "metadata": {},
   "outputs": [
    {
     "name": "stdout",
     "output_type": "stream",
     "text": [
      "X train Shape : (750, 19)\n",
      "X test Shape : (250, 19)\n",
      "y train Shape : (750,)\n",
      "y test Shape : (250,)\n"
     ]
    }
   ],
   "source": [
    "print(\"X train Shape : {}\".format(X_train.shape))\n",
    "print(\"X test Shape : {}\".format(X_test.shape))\n",
    "print(\"y train Shape : {}\".format(y_train.shape))\n",
    "print(\"y test Shape : {}\".format(y_test.shape))"
   ]
  },
  {
   "cell_type": "markdown",
   "metadata": {},
   "source": [
    "Creating function for model evaluation "
   ]
  },
  {
   "cell_type": "code",
   "execution_count": 28,
   "metadata": {},
   "outputs": [],
   "source": [
    "def performance(true, predicted):\n",
    "    mae=mean_absolute_error(true,predicted)\n",
    "    mse=mean_squared_error(true, predicted)\n",
    "    r2=r2_score(true,predicted)\n",
    "    \n",
    "    return mae,mse,r2"
   ]
  },
  {
   "cell_type": "markdown",
   "metadata": {},
   "source": [
    "Creating Dictonary of models we want to train our dataset"
   ]
  },
  {
   "cell_type": "code",
   "execution_count": 89,
   "metadata": {},
   "outputs": [],
   "source": [
    "models={\n",
    "    \"Linear Regression\" : LinearRegression(),\n",
    "    \"Lasso Resgression\" : Lasso(),\n",
    "    \"Ridge Regression\"  : Ridge(),\n",
    "    \"K-Neighbour Regressor\" : KNeighborsRegressor(),\n",
    "    \"Decision Tree Regressor\" : DecisionTreeRegressor(),\n",
    "    \"Random Forest Regressor\" : RandomForestRegressor(),\n",
    "    \"AdaBoost Regressor\" : AdaBoostRegressor()\n",
    " }"
   ]
  },
  {
   "cell_type": "markdown",
   "metadata": {},
   "source": [
    "Reshaping Our Y Train "
   ]
  },
  {
   "cell_type": "code",
   "execution_count": 78,
   "metadata": {},
   "outputs": [],
   "source": [
    "y_train=y_train.values.reshape(-1,1)"
   ]
  },
  {
   "cell_type": "markdown",
   "metadata": {},
   "source": [
    "Training Dataset on these Models."
   ]
  },
  {
   "cell_type": "code",
   "execution_count": 90,
   "metadata": {},
   "outputs": [
    {
     "name": "stdout",
     "output_type": "stream",
     "text": [
      "Linear Regression\n",
      "Model Performance for Training set\n",
      "- Root Absolute Error : 4.238267465725305\n",
      "- Root Squared Error : 28.06080423568467\n",
      "- R Squared Error : 0.8742732380399838\n",
      "----------------------------\n",
      "Model Performance for Test set\n",
      "- Root Absolute Error : 4.337930600167401\n",
      "- Root Squared Error : 30.05811462672032\n",
      "- R Squared Error : 0.8778243107659015\n",
      "=================================== \n",
      "\n",
      "Lasso Resgression\n",
      "Model Performance for Training set\n",
      "- Root Absolute Error : 5.183725467135435\n",
      "- Root Squared Error : 42.92215298860819\n",
      "- R Squared Error : 0.8076867909314052\n",
      "----------------------------\n",
      "Model Performance for Test set\n",
      "- Root Absolute Error : 5.2217044431408555\n",
      "- Root Squared Error : 44.27742512370272\n",
      "- R Squared Error : 0.8200278028352899\n",
      "=================================== \n",
      "\n",
      "Ridge Regression\n",
      "Model Performance for Training set\n",
      "- Root Absolute Error : 4.236822709293622\n",
      "- Root Squared Error : 28.06418045343843\n",
      "- R Squared Error : 0.8742581108568038\n",
      "----------------------------\n",
      "Model Performance for Test set\n",
      "- Root Absolute Error : 4.33537241938823\n",
      "- Root Squared Error : 30.017315591232382\n",
      "- R Squared Error : 0.8779901445296864\n",
      "=================================== \n",
      "\n",
      "K-Neighbour Regressor\n",
      "Model Performance for Training set\n",
      "- Root Absolute Error : 4.577866666666666\n",
      "- Root Squared Error : 33.512480000000004\n",
      "- R Squared Error : 0.849846940940786\n",
      "----------------------------\n",
      "Model Performance for Test set\n",
      "- Root Absolute Error : 5.517600000000001\n",
      "- Root Squared Error : 50.62768\n",
      "- R Squared Error : 0.7942162449262611\n",
      "=================================== \n",
      "\n",
      "Decision Tree Regressor\n",
      "Model Performance for Training set\n",
      "- Root Absolute Error : 0.02\n",
      "- Root Squared Error : 0.08333333333333333\n",
      "- R Squared Error : 0.9996266240241963\n",
      "----------------------------\n",
      "Model Performance for Test set\n",
      "- Root Absolute Error : 5.964\n",
      "- Root Squared Error : 57.852\n",
      "- R Squared Error : 0.7648519189793815\n",
      "=================================== \n",
      "\n"
     ]
    },
    {
     "name": "stderr",
     "output_type": "stream",
     "text": [
      "C:\\Users\\win10\\AppData\\Local\\Temp\\ipykernel_18440\\1458875558.py:6: DataConversionWarning: A column-vector y was passed when a 1d array was expected. Please change the shape of y to (n_samples,), for example using ravel().\n",
      "  model.fit(X_train,y_train)  #Model Training\n"
     ]
    },
    {
     "name": "stdout",
     "output_type": "stream",
     "text": [
      "Random Forest Regressor\n",
      "Model Performance for Training set\n",
      "- Root Absolute Error : 1.8328477777777776\n",
      "- Root Squared Error : 5.228725204629629\n",
      "- R Squared Error : 0.9765726354941456\n",
      "----------------------------\n",
      "Model Performance for Test set\n",
      "- Root Absolute Error : 4.7613433333333335\n",
      "- Root Squared Error : 37.847501986111105\n",
      "- R Squared Error : 0.84616318427266\n",
      "=================================== \n",
      "\n",
      "AdaBoost Regressor\n",
      "Model Performance for Training set\n",
      "- Root Absolute Error : 4.698475600541065\n",
      "- Root Squared Error : 33.33986949119867\n",
      "- R Squared Error : 0.850620324346678\n",
      "----------------------------\n",
      "Model Performance for Test set\n",
      "- Root Absolute Error : 4.823085395241953\n",
      "- Root Squared Error : 38.322555925826954\n",
      "- R Squared Error : 0.8442322566935708\n",
      "=================================== \n",
      "\n"
     ]
    },
    {
     "name": "stderr",
     "output_type": "stream",
     "text": [
      "c:\\Users\\win10\\AppData\\Local\\Programs\\Python\\Python311\\Lib\\site-packages\\sklearn\\utils\\validation.py:1143: DataConversionWarning: A column-vector y was passed when a 1d array was expected. Please change the shape of y to (n_samples, ), for example using ravel().\n",
      "  y = column_or_1d(y, warn=True)\n"
     ]
    }
   ],
   "source": [
    "model_list=[]\n",
    "r2_list=[]\n",
    "\n",
    "for i in range(len(models.values())):\n",
    "    model=list(models.values())[i]\n",
    "    model.fit(X_train,y_train)  #Model Training\n",
    "\n",
    "    #Make Prediction\n",
    "    y_train_pred=model.predict(X_train)\n",
    "    y_test_pred=model.predict(X_test)\n",
    "\n",
    "    #Evaluating model performance for training and test set\n",
    "    model_train_mae,model_train_mse,model_train_r2= performance(y_train,y_train_pred)\n",
    "    model_test_mae,model_test_mse,model_test_r2= performance(y_test,y_test_pred)\n",
    "\n",
    "    print(list(models.keys())[i])\n",
    "    print(\"Model Performance for Training set\")\n",
    "    print(\"- Root Absolute Error : {}\".format(model_train_mae))\n",
    "    print(\"- Root Squared Error : {}\".format(model_train_mse))\n",
    "    print(\"- R Squared Error : {}\".format(model_train_r2))\n",
    "\n",
    "    print(\"----------------------------\")\n",
    "\n",
    "    print(\"Model Performance for Test set\")\n",
    "    print(\"- Root Absolute Error : {}\".format(model_test_mae))\n",
    "    print(\"- Root Squared Error : {}\".format(model_test_mse))\n",
    "    print(\"- R Squared Error : {}\".format(model_test_r2))\n",
    "\n",
    "    print('='*35,'\\n')\n",
    "\n",
    "    model_list.append(list(models.keys())[i])\n",
    "    r2_list.append(model_test_r2)"
   ]
  },
  {
   "cell_type": "code",
   "execution_count": 99,
   "metadata": {},
   "outputs": [
    {
     "data": {
      "text/html": [
       "<div>\n",
       "<style scoped>\n",
       "    .dataframe tbody tr th:only-of-type {\n",
       "        vertical-align: middle;\n",
       "    }\n",
       "\n",
       "    .dataframe tbody tr th {\n",
       "        vertical-align: top;\n",
       "    }\n",
       "\n",
       "    .dataframe thead th {\n",
       "        text-align: right;\n",
       "    }\n",
       "</style>\n",
       "<table border=\"1\" class=\"dataframe\">\n",
       "  <thead>\n",
       "    <tr style=\"text-align: right;\">\n",
       "      <th></th>\n",
       "      <th>Regressor</th>\n",
       "      <th>R2_score</th>\n",
       "    </tr>\n",
       "  </thead>\n",
       "  <tbody>\n",
       "    <tr>\n",
       "      <th>2</th>\n",
       "      <td>Ridge Regression</td>\n",
       "      <td>0.877990</td>\n",
       "    </tr>\n",
       "    <tr>\n",
       "      <th>0</th>\n",
       "      <td>Linear Regression</td>\n",
       "      <td>0.877824</td>\n",
       "    </tr>\n",
       "    <tr>\n",
       "      <th>5</th>\n",
       "      <td>Random Forest Regressor</td>\n",
       "      <td>0.846163</td>\n",
       "    </tr>\n",
       "    <tr>\n",
       "      <th>6</th>\n",
       "      <td>AdaBoost Regressor</td>\n",
       "      <td>0.844232</td>\n",
       "    </tr>\n",
       "    <tr>\n",
       "      <th>1</th>\n",
       "      <td>Lasso Resgression</td>\n",
       "      <td>0.820028</td>\n",
       "    </tr>\n",
       "    <tr>\n",
       "      <th>3</th>\n",
       "      <td>K-Neighbour Regressor</td>\n",
       "      <td>0.794216</td>\n",
       "    </tr>\n",
       "    <tr>\n",
       "      <th>4</th>\n",
       "      <td>Decision Tree Regressor</td>\n",
       "      <td>0.764852</td>\n",
       "    </tr>\n",
       "  </tbody>\n",
       "</table>\n",
       "</div>"
      ],
      "text/plain": [
       "                 Regressor  R2_score\n",
       "2         Ridge Regression  0.877990\n",
       "0        Linear Regression  0.877824\n",
       "5  Random Forest Regressor  0.846163\n",
       "6       AdaBoost Regressor  0.844232\n",
       "1        Lasso Resgression  0.820028\n",
       "3    K-Neighbour Regressor  0.794216\n",
       "4  Decision Tree Regressor  0.764852"
      ]
     },
     "execution_count": 99,
     "metadata": {},
     "output_type": "execute_result"
    }
   ],
   "source": [
    "best_model=pd.DataFrame(list(zip(model_list,r2_list)),columns=['Regressor','R2_score']).sort_values(by='R2_score',ascending=False)\n",
    "best_model"
   ]
  },
  {
   "cell_type": "markdown",
   "metadata": {},
   "source": [
    "As we can we got a good performance from Ridge and Linear Regression, lets go ahead and chose our model as linear regression."
   ]
  },
  {
   "cell_type": "markdown",
   "metadata": {},
   "source": [
    "### Linear Regression"
   ]
  },
  {
   "cell_type": "code",
   "execution_count": 101,
   "metadata": {},
   "outputs": [],
   "source": [
    "linear_model=LinearRegression(fit_intercept=True)\n",
    "linear_model.fit(X_train,y_train)\n",
    "\n",
    "y_pred=linear_model.predict(X_test)"
   ]
  },
  {
   "cell_type": "code",
   "execution_count": 116,
   "metadata": {},
   "outputs": [
    {
     "name": "stdout",
     "output_type": "stream",
     "text": [
      "Intercept for our linear Model :  65.57334231389379 \n",
      "\n",
      "Coefficents for our linear Model are : [[ 3.35643752e+00  1.11222532e+01 -6.55315835e+00  6.55315835e+00\n",
      "  -2.90315752e-01 -5.94694341e-01 -1.46782950e+00 -1.53748986e+00\n",
      "   3.89032945e+00  6.11447676e-03 -7.61031598e-01  8.22351574e-01\n",
      "  -1.49308802e+00  8.25360412e-01  6.00293154e-01 -1.72785641e+00\n",
      "   1.72785641e+00 -1.58071976e+00  1.58071976e+00]]\n",
      "\n",
      " Accuracy of the Model is 87.78\n"
     ]
    }
   ],
   "source": [
    "print(\"Intercept for our linear Model : \",linear_model.intercept_[0],'\\n')\n",
    "print(\"Coefficents for our linear Model are :\",linear_model.coef_)\n",
    "print('\\n','Accuracy of the Model is',f'{r2_score(y_test,y_pred)*100:.2f}')"
   ]
  }
 ],
 "metadata": {
  "kernelspec": {
   "display_name": "Python 3",
   "language": "python",
   "name": "python3"
  },
  "language_info": {
   "codemirror_mode": {
    "name": "ipython",
    "version": 3
   },
   "file_extension": ".py",
   "mimetype": "text/x-python",
   "name": "python",
   "nbconvert_exporter": "python",
   "pygments_lexer": "ipython3",
   "version": "3.11.3"
  },
  "orig_nbformat": 4
 },
 "nbformat": 4,
 "nbformat_minor": 2
}
